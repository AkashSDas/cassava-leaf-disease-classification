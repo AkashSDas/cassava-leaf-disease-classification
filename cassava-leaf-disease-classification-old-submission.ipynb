{
 "cells": [
  {
   "cell_type": "markdown",
   "metadata": {
    "_cell_guid": "79c7e3d0-c299-4dcb-8224-4455121ee9b0",
    "_uuid": "d629ff2d2480ee46fbb7e2d37f6b5fab8052498a",
    "papermill": {
     "duration": 0.006095,
     "end_time": "2021-04-19T02:01:05.600602",
     "exception": false,
     "start_time": "2021-04-19T02:01:05.594507",
     "status": "completed"
    },
    "tags": []
   },
   "source": [
    "# Cassava Leaf Disease Classification Submission"
   ]
  },
  {
   "cell_type": "code",
   "execution_count": 1,
   "metadata": {
    "execution": {
     "iopub.execute_input": "2021-04-19T02:01:05.619291Z",
     "iopub.status.busy": "2021-04-19T02:01:05.618507Z",
     "iopub.status.idle": "2021-04-19T02:01:10.546357Z",
     "shell.execute_reply": "2021-04-19T02:01:10.545268Z"
    },
    "papermill": {
     "duration": 4.940489,
     "end_time": "2021-04-19T02:01:10.546505",
     "exception": false,
     "start_time": "2021-04-19T02:01:05.606016",
     "status": "completed"
    },
    "tags": []
   },
   "outputs": [],
   "source": [
    "import numpy as np\n",
    "import pandas as pd\n",
    "\n",
    "import cv2\n",
    "\n",
    "from tensorflow.keras import preprocessing\n",
    "from tensorflow.keras.models import load_model"
   ]
  },
  {
   "cell_type": "code",
   "execution_count": 2,
   "metadata": {
    "execution": {
     "iopub.execute_input": "2021-04-19T02:01:10.582985Z",
     "iopub.status.busy": "2021-04-19T02:01:10.582294Z",
     "iopub.status.idle": "2021-04-19T02:01:10.586471Z",
     "shell.execute_reply": "2021-04-19T02:01:10.587157Z"
    },
    "papermill": {
     "duration": 0.031898,
     "end_time": "2021-04-19T02:01:10.587342",
     "exception": false,
     "start_time": "2021-04-19T02:01:10.555444",
     "status": "completed"
    },
    "tags": []
   },
   "outputs": [],
   "source": [
    "# constants\n",
    "\n",
    "IMAGE_SIZE = [512, 512]\n",
    "MODEL_DIR = '../input/cassava-leaf-disease-classification-model/model.h5'\n",
    "TEST_DIR = '../input/cassava-leaf-disease-classification/sample_submission.csv'\n",
    "TEST_IMG_DIR = '../input/cassava-leaf-disease-classification/test_images/'"
   ]
  },
  {
   "cell_type": "code",
   "execution_count": 3,
   "metadata": {
    "execution": {
     "iopub.execute_input": "2021-04-19T02:01:10.640911Z",
     "iopub.status.busy": "2021-04-19T02:01:10.639039Z",
     "iopub.status.idle": "2021-04-19T02:01:10.680792Z",
     "shell.execute_reply": "2021-04-19T02:01:10.681975Z"
    },
    "papermill": {
     "duration": 0.082097,
     "end_time": "2021-04-19T02:01:10.682256",
     "exception": false,
     "start_time": "2021-04-19T02:01:10.600159",
     "status": "completed"
    },
    "tags": []
   },
   "outputs": [
    {
     "name": "stdout",
     "output_type": "stream",
     "text": [
      "Found 1 validated image filenames belonging to 1 classes.\n"
     ]
    }
   ],
   "source": [
    "# data preparation\n",
    "\n",
    "test_df = pd.read_csv(TEST_DIR)\n",
    "test_df['label'] = test_df['label'].astype('str')\n",
    "\n",
    "test_data_gen = preprocessing.image.ImageDataGenerator(rescale=1./255)\n",
    "test_gen = test_data_gen.flow_from_dataframe(\n",
    "    test_df,\n",
    "    directory=TEST_IMG_DIR,\n",
    "    x_col='image_id',\n",
    "    y_col='label',\n",
    "    target_size=IMAGE_SIZE,\n",
    "    class_mode='sparse'\n",
    ")"
   ]
  },
  {
   "cell_type": "code",
   "execution_count": 4,
   "metadata": {
    "execution": {
     "iopub.execute_input": "2021-04-19T02:01:10.717796Z",
     "iopub.status.busy": "2021-04-19T02:01:10.716965Z",
     "iopub.status.idle": "2021-04-19T02:01:20.608259Z",
     "shell.execute_reply": "2021-04-19T02:01:20.607168Z"
    },
    "papermill": {
     "duration": 9.909447,
     "end_time": "2021-04-19T02:01:20.608396",
     "exception": false,
     "start_time": "2021-04-19T02:01:10.698949",
     "status": "completed"
    },
    "tags": []
   },
   "outputs": [
    {
     "name": "stdout",
     "output_type": "stream",
     "text": [
      "Model: \"sequential\"\n",
      "_________________________________________________________________\n",
      "Layer (type)                 Output Shape              Param #   \n",
      "=================================================================\n",
      "inception_v3 (Functional)    (None, None, None, 2048)  21802784  \n",
      "_________________________________________________________________\n",
      "global_average_pooling2d (Gl (None, 2048)              0         \n",
      "_________________________________________________________________\n",
      "dropout (Dropout)            (None, 2048)              0         \n",
      "_________________________________________________________________\n",
      "dense (Dense)                (None, 128)               262272    \n",
      "_________________________________________________________________\n",
      "dense_1 (Dense)              (None, 5)                 645       \n",
      "=================================================================\n",
      "Total params: 22,065,701\n",
      "Trainable params: 22,031,269\n",
      "Non-trainable params: 34,432\n",
      "_________________________________________________________________\n"
     ]
    }
   ],
   "source": [
    "# loading the model trained using tpu\n",
    "\n",
    "model = load_model(MODEL_DIR)\n",
    "model.summary()"
   ]
  },
  {
   "cell_type": "code",
   "execution_count": 5,
   "metadata": {
    "execution": {
     "iopub.execute_input": "2021-04-19T02:01:20.626781Z",
     "iopub.status.busy": "2021-04-19T02:01:20.625825Z",
     "iopub.status.idle": "2021-04-19T02:01:25.064871Z",
     "shell.execute_reply": "2021-04-19T02:01:25.064403Z"
    },
    "papermill": {
     "duration": 4.449673,
     "end_time": "2021-04-19T02:01:25.064997",
     "exception": false,
     "start_time": "2021-04-19T02:01:20.615324",
     "status": "completed"
    },
    "tags": []
   },
   "outputs": [
    {
     "data": {
      "text/plain": [
       "[4]"
      ]
     },
     "execution_count": 5,
     "metadata": {},
     "output_type": "execute_result"
    }
   ],
   "source": [
    "# prediction\n",
    "\n",
    "predictions = model.predict(test_gen)\n",
    "pred_labels = [] # [1, 2, 0, 4, 2, ...]\n",
    "\n",
    "for pred in predictions:\n",
    "    pred_labels.append(np.argmax(pred))\n",
    "    \n",
    "pred_labels"
   ]
  },
  {
   "cell_type": "code",
   "execution_count": 6,
   "metadata": {
    "execution": {
     "iopub.execute_input": "2021-04-19T02:01:25.087010Z",
     "iopub.status.busy": "2021-04-19T02:01:25.086207Z",
     "iopub.status.idle": "2021-04-19T02:01:25.283346Z",
     "shell.execute_reply": "2021-04-19T02:01:25.282399Z"
    },
    "papermill": {
     "duration": 0.210135,
     "end_time": "2021-04-19T02:01:25.283463",
     "exception": false,
     "start_time": "2021-04-19T02:01:25.073328",
     "status": "completed"
    },
    "tags": []
   },
   "outputs": [
    {
     "data": {
      "text/html": [
       "<div>\n",
       "<style scoped>\n",
       "    .dataframe tbody tr th:only-of-type {\n",
       "        vertical-align: middle;\n",
       "    }\n",
       "\n",
       "    .dataframe tbody tr th {\n",
       "        vertical-align: top;\n",
       "    }\n",
       "\n",
       "    .dataframe thead th {\n",
       "        text-align: right;\n",
       "    }\n",
       "</style>\n",
       "<table border=\"1\" class=\"dataframe\">\n",
       "  <thead>\n",
       "    <tr style=\"text-align: right;\">\n",
       "      <th></th>\n",
       "      <th>image_id</th>\n",
       "      <th>label</th>\n",
       "    </tr>\n",
       "  </thead>\n",
       "  <tbody>\n",
       "    <tr>\n",
       "      <th>0</th>\n",
       "      <td>2216849948.jpg</td>\n",
       "      <td>4</td>\n",
       "    </tr>\n",
       "  </tbody>\n",
       "</table>\n",
       "</div>"
      ],
      "text/plain": [
       "         image_id  label\n",
       "0  2216849948.jpg      4"
      ]
     },
     "execution_count": 6,
     "metadata": {},
     "output_type": "execute_result"
    }
   ],
   "source": [
    "# submission\n",
    "\n",
    "submission = pd.DataFrame({'image_id': test_df.image_id, 'label': pred_labels})\n",
    "submission.to_csv('submission.csv', index=False) \n",
    "submission.head()"
   ]
  },
  {
   "cell_type": "markdown",
   "metadata": {
    "papermill": {
     "duration": 0.007637,
     "end_time": "2021-04-19T02:01:25.299375",
     "exception": false,
     "start_time": "2021-04-19T02:01:25.291738",
     "status": "completed"
    },
    "tags": []
   },
   "source": [
    "---"
   ]
  }
 ],
 "metadata": {
  "kernelspec": {
   "display_name": "Python 3",
   "language": "python",
   "name": "python3"
  },
  "language_info": {
   "codemirror_mode": {
    "name": "ipython",
    "version": 3
   },
   "file_extension": ".py",
   "mimetype": "text/x-python",
   "name": "python",
   "nbconvert_exporter": "python",
   "pygments_lexer": "ipython3",
   "version": "3.7.6"
  },
  "papermill": {
   "duration": 25.762022,
   "end_time": "2021-04-19T02:01:27.357655",
   "environment_variables": {},
   "exception": null,
   "input_path": "__notebook__.ipynb",
   "output_path": "__notebook__.ipynb",
   "parameters": {},
   "start_time": "2021-04-19T02:01:01.595633",
   "version": "2.1.0"
  }
 },
 "nbformat": 4,
 "nbformat_minor": 4
}
