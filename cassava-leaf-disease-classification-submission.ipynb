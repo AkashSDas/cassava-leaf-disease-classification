{
 "cells": [
  {
   "cell_type": "markdown",
   "id": "naval-redhead",
   "metadata": {
    "papermill": {
     "duration": 0.008573,
     "end_time": "2021-04-23T03:21:19.366046",
     "exception": false,
     "start_time": "2021-04-23T03:21:19.357473",
     "status": "completed"
    },
    "tags": []
   },
   "source": [
    "# Cassava Leaf Disease Classification Submission\n",
    "\n",
    "The notebook where this model is created can be found [here](https://www.kaggle.com/akashsdas/cassava-leaf-disease-classification/) and older submission for models of that notebook can be [here](https://www.kaggle.com/akashsdas/cassava-leaf-disease-classification-old-submission/)"
   ]
  },
  {
   "cell_type": "code",
   "execution_count": 1,
   "id": "informative-boundary",
   "metadata": {
    "_cell_guid": "b1076dfc-b9ad-4769-8c92-a6c4dae69d19",
    "_uuid": "8f2839f25d086af736a60e9eeb907d3b93b6e0e5",
    "execution": {
     "iopub.execute_input": "2021-04-23T03:21:19.388494Z",
     "iopub.status.busy": "2021-04-23T03:21:19.386129Z",
     "iopub.status.idle": "2021-04-23T03:21:26.068354Z",
     "shell.execute_reply": "2021-04-23T03:21:26.067628Z"
    },
    "papermill": {
     "duration": 6.695345,
     "end_time": "2021-04-23T03:21:26.068582",
     "exception": false,
     "start_time": "2021-04-23T03:21:19.373237",
     "status": "completed"
    },
    "tags": []
   },
   "outputs": [],
   "source": [
    "import numpy as np\n",
    "import pandas as pd\n",
    "\n",
    "import cv2\n",
    "\n",
    "from tensorflow.keras import preprocessing\n",
    "from tensorflow.keras.models import load_model"
   ]
  },
  {
   "cell_type": "markdown",
   "id": "unexpected-music",
   "metadata": {
    "papermill": {
     "duration": 0.007208,
     "end_time": "2021-04-23T03:21:26.083414",
     "exception": false,
     "start_time": "2021-04-23T03:21:26.076206",
     "status": "completed"
    },
    "tags": []
   },
   "source": [
    "The model used here is `model-without-xla-and-mixed-precision.h5` because while using the other model `model.h5`, I was getting the below error as it was trained using `TPU` with `XLA` and `Mixed Precision` enabled.\n",
    "\n",
    "```bash\n",
    "InvalidArgumentError: No OpKernel was registered to support Op 'Conv2D' used by {{node sequential/inception_v3/conv2d/Conv2D}} with these attrs: [dilations=[1, 1, 1, 1], T=DT_BFLOAT16, strides=[1, 2, 2, 1], data_format=\"NHWC\", explicit_paddings=[], use_cudnn_on_gpu=true, padding=\"VALID\"]\n",
    "Registered devices: [CPU, GPU]\n",
    "Registered kernels:\n",
    "  device='XLA_CPU_JIT'; T in [DT_FLOAT, DT_DOUBLE, DT_BFLOAT16, DT_HALF]\n",
    "  device='XLA_GPU_JIT'; T in [DT_FLOAT, DT_DOUBLE, DT_BFLOAT16, DT_HALF]\n",
    "  device='GPU'; T in [DT_INT32]\n",
    "  device='GPU'; T in [DT_DOUBLE]\n",
    "  device='GPU'; T in [DT_FLOAT]\n",
    "  device='GPU'; T in [DT_HALF]\n",
    "  device='CPU'; T in [DT_INT32]\n",
    "  device='CPU'; T in [DT_DOUBLE]\n",
    "  device='CPU'; T in [DT_FLOAT]\n",
    "  device='CPU'; T in [DT_HALF]\n",
    "\n",
    "\t [[sequential/inception_v3/conv2d/Conv2D]] [Op:__inference_predict_function_11991]\n",
    "```"
   ]
  },
  {
   "cell_type": "code",
   "execution_count": 2,
   "id": "civic-miami",
   "metadata": {
    "execution": {
     "iopub.execute_input": "2021-04-23T03:21:26.102752Z",
     "iopub.status.busy": "2021-04-23T03:21:26.101974Z",
     "iopub.status.idle": "2021-04-23T03:21:26.106269Z",
     "shell.execute_reply": "2021-04-23T03:21:26.106869Z"
    },
    "papermill": {
     "duration": 0.016197,
     "end_time": "2021-04-23T03:21:26.107007",
     "exception": false,
     "start_time": "2021-04-23T03:21:26.090810",
     "status": "completed"
    },
    "tags": []
   },
   "outputs": [],
   "source": [
    "# constants\n",
    "\n",
    "IMAGE_SIZE = [512, 512]\n",
    "\n",
    "MODEL_DIR = '../input/cassava-leaf-disease-classification-model/model-without-xla-and-mixed-precision.h5'\n",
    "TEST_DIR = '../input/cassava-leaf-disease-classification/sample_submission.csv'\n",
    "TEST_IMG_DIR = '../input/cassava-leaf-disease-classification/test_images/'"
   ]
  },
  {
   "cell_type": "code",
   "execution_count": 3,
   "id": "seventh-turkish",
   "metadata": {
    "execution": {
     "iopub.execute_input": "2021-04-23T03:21:26.130627Z",
     "iopub.status.busy": "2021-04-23T03:21:26.129907Z",
     "iopub.status.idle": "2021-04-23T03:21:26.175473Z",
     "shell.execute_reply": "2021-04-23T03:21:26.176649Z"
    },
    "papermill": {
     "duration": 0.062035,
     "end_time": "2021-04-23T03:21:26.176866",
     "exception": false,
     "start_time": "2021-04-23T03:21:26.114831",
     "status": "completed"
    },
    "tags": []
   },
   "outputs": [
    {
     "name": "stdout",
     "output_type": "stream",
     "text": [
      "Found 1 validated image filenames belonging to 1 classes.\n"
     ]
    }
   ],
   "source": [
    "# data preparation\n",
    "\n",
    "test_df = pd.read_csv(TEST_DIR)\n",
    "test_df['label'] = test_df['label'].astype('str')\n",
    "\n",
    "test_data_gen = preprocessing.image.ImageDataGenerator(rescale=1./255)\n",
    "test_gen = test_data_gen.flow_from_dataframe(\n",
    "    test_df,\n",
    "    directory=TEST_IMG_DIR,\n",
    "    x_col='image_id',\n",
    "    y_col='label',\n",
    "    target_size=IMAGE_SIZE,\n",
    "    class_mode='sparse'\n",
    ")"
   ]
  },
  {
   "cell_type": "code",
   "execution_count": 4,
   "id": "residential-cookbook",
   "metadata": {
    "execution": {
     "iopub.execute_input": "2021-04-23T03:21:26.197635Z",
     "iopub.status.busy": "2021-04-23T03:21:26.196955Z",
     "iopub.status.idle": "2021-04-23T03:21:38.500356Z",
     "shell.execute_reply": "2021-04-23T03:21:38.500877Z"
    },
    "papermill": {
     "duration": 12.314994,
     "end_time": "2021-04-23T03:21:38.501083",
     "exception": false,
     "start_time": "2021-04-23T03:21:26.186089",
     "status": "completed"
    },
    "tags": []
   },
   "outputs": [
    {
     "name": "stdout",
     "output_type": "stream",
     "text": [
      "Model: \"sequential\"\n",
      "_________________________________________________________________\n",
      "Layer (type)                 Output Shape              Param #   \n",
      "=================================================================\n",
      "inception_v3 (Functional)    (None, None, None, 2048)  21802784  \n",
      "_________________________________________________________________\n",
      "global_average_pooling2d (Gl (None, 2048)              0         \n",
      "_________________________________________________________________\n",
      "dropout (Dropout)            (None, 2048)              0         \n",
      "_________________________________________________________________\n",
      "dense (Dense)                (None, 5)                 10245     \n",
      "=================================================================\n",
      "Total params: 21,813,029\n",
      "Trainable params: 21,778,597\n",
      "Non-trainable params: 34,432\n",
      "_________________________________________________________________\n"
     ]
    }
   ],
   "source": [
    "# loading the model trained using tpu\n",
    "\n",
    "model = load_model(MODEL_DIR)\n",
    "model.summary()"
   ]
  },
  {
   "cell_type": "code",
   "execution_count": 5,
   "id": "superior-inspection",
   "metadata": {
    "execution": {
     "iopub.execute_input": "2021-04-23T03:21:38.525081Z",
     "iopub.status.busy": "2021-04-23T03:21:38.523954Z",
     "iopub.status.idle": "2021-04-23T03:21:44.517793Z",
     "shell.execute_reply": "2021-04-23T03:21:44.517193Z"
    },
    "papermill": {
     "duration": 6.007598,
     "end_time": "2021-04-23T03:21:44.517954",
     "exception": false,
     "start_time": "2021-04-23T03:21:38.510356",
     "status": "completed"
    },
    "tags": []
   },
   "outputs": [
    {
     "data": {
      "text/plain": [
       "[4]"
      ]
     },
     "execution_count": 5,
     "metadata": {},
     "output_type": "execute_result"
    }
   ],
   "source": [
    "# prediction\n",
    "\n",
    "predictions = model.predict(test_gen)\n",
    "pred_labels = [] # [1, 2, 0, 4, 2, ...]\n",
    "\n",
    "for pred in predictions:\n",
    "    pred_labels.append(np.argmax(pred))\n",
    "    \n",
    "pred_labels"
   ]
  },
  {
   "cell_type": "code",
   "execution_count": 6,
   "id": "abandoned-ordinary",
   "metadata": {
    "execution": {
     "iopub.execute_input": "2021-04-23T03:21:44.543678Z",
     "iopub.status.busy": "2021-04-23T03:21:44.542600Z",
     "iopub.status.idle": "2021-04-23T03:21:44.727774Z",
     "shell.execute_reply": "2021-04-23T03:21:44.727216Z"
    },
    "papermill": {
     "duration": 0.200726,
     "end_time": "2021-04-23T03:21:44.727943",
     "exception": false,
     "start_time": "2021-04-23T03:21:44.527217",
     "status": "completed"
    },
    "tags": []
   },
   "outputs": [
    {
     "data": {
      "text/html": [
       "<div>\n",
       "<style scoped>\n",
       "    .dataframe tbody tr th:only-of-type {\n",
       "        vertical-align: middle;\n",
       "    }\n",
       "\n",
       "    .dataframe tbody tr th {\n",
       "        vertical-align: top;\n",
       "    }\n",
       "\n",
       "    .dataframe thead th {\n",
       "        text-align: right;\n",
       "    }\n",
       "</style>\n",
       "<table border=\"1\" class=\"dataframe\">\n",
       "  <thead>\n",
       "    <tr style=\"text-align: right;\">\n",
       "      <th></th>\n",
       "      <th>image_id</th>\n",
       "      <th>label</th>\n",
       "    </tr>\n",
       "  </thead>\n",
       "  <tbody>\n",
       "    <tr>\n",
       "      <th>0</th>\n",
       "      <td>2216849948.jpg</td>\n",
       "      <td>4</td>\n",
       "    </tr>\n",
       "  </tbody>\n",
       "</table>\n",
       "</div>"
      ],
      "text/plain": [
       "         image_id  label\n",
       "0  2216849948.jpg      4"
      ]
     },
     "execution_count": 6,
     "metadata": {},
     "output_type": "execute_result"
    }
   ],
   "source": [
    "# submission\n",
    "\n",
    "submission = pd.DataFrame({'image_id': test_df.image_id, 'label': pred_labels})\n",
    "submission.to_csv('submission.csv', index=False) \n",
    "submission.head()"
   ]
  },
  {
   "cell_type": "markdown",
   "id": "owned-interview",
   "metadata": {
    "papermill": {
     "duration": 0.009354,
     "end_time": "2021-04-23T03:21:44.747616",
     "exception": false,
     "start_time": "2021-04-23T03:21:44.738262",
     "status": "completed"
    },
    "tags": []
   },
   "source": [
    "---"
   ]
  }
 ],
 "metadata": {
  "kernelspec": {
   "display_name": "Python 3",
   "language": "python",
   "name": "python3"
  },
  "language_info": {
   "codemirror_mode": {
    "name": "ipython",
    "version": 3
   },
   "file_extension": ".py",
   "mimetype": "text/x-python",
   "name": "python",
   "nbconvert_exporter": "python",
   "pygments_lexer": "ipython3",
   "version": "3.7.10"
  },
  "papermill": {
   "default_parameters": {},
   "duration": 36.832127,
   "end_time": "2021-04-23T03:21:48.229228",
   "environment_variables": {},
   "exception": null,
   "input_path": "__notebook__.ipynb",
   "output_path": "__notebook__.ipynb",
   "parameters": {},
   "start_time": "2021-04-23T03:21:11.397101",
   "version": "2.3.3"
  }
 },
 "nbformat": 4,
 "nbformat_minor": 5
}
